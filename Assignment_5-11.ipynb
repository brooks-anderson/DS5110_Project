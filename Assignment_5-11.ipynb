{
 "cells": [
  {
   "cell_type": "markdown",
   "metadata": {},
   "source": [
    "# Assignment 5.11 Final Project EDA\n",
    "**DS 5110**  \n",
    "February 27, 2022  \n",
    "Carly Kelly, Kin Girma, Brooks Anderson"
   ]
  },
  {
   "cell_type": "markdown",
   "metadata": {},
   "source": [
    "---\n",
    "We begin by initializing a spark session and reading in our dataset. Some initial data-cleaning was performed previously."
   ]
  },
  {
   "cell_type": "code",
   "execution_count": 1,
   "metadata": {},
   "outputs": [],
   "source": [
    "import os\n",
    "\n",
    "os.chdir(\"/project/ds5559/CollegeScorecard/\")\n",
    "\n",
    "# create spark session\n",
    "from pyspark.sql import SparkSession\n",
    "spark = SparkSession.builder \\\n",
    "        .master(\"local\") \\\n",
    "        .appName(\"EDA_brooks\") \\\n",
    "        .getOrCreate()\n",
    "sc = spark.sparkContext"
   ]
  },
  {
   "cell_type": "code",
   "execution_count": 2,
   "metadata": {},
   "outputs": [],
   "source": [
    "# necessary libraries\n",
    "import pandas as pd\n",
    "import matplotlib.pyplot as plt\n",
    "from pyspark.sql import functions as F"
   ]
  },
  {
   "cell_type": "code",
   "execution_count": 3,
   "metadata": {},
   "outputs": [],
   "source": [
    "# read in file\n",
    "data = spark.read.csv(\"intermediate_data.csv\", inferSchema = True, header = True)"
   ]
  },
  {
   "cell_type": "code",
   "execution_count": 4,
   "metadata": {},
   "outputs": [
    {
     "name": "stdout",
     "output_type": "stream",
     "text": [
      "+------+-----------------------------------+----+-------+------+-----+-----+----------------+----------------+-----------------+--------+------+------+\n",
      "|UNITID|INSTNM                             |MAIN|CONTROL|LOCALE|UGDS |GRADS|ADM_RATE_imputed|COSTT4_A_imputed|AVGFACSAL_imputed|INEXPFTE|PCIP14|PCIP15|\n",
      "+------+-----------------------------------+----+-------+------+-----+-----+----------------+----------------+-----------------+--------+------+------+\n",
      "|100654|Alabama A & M University           |1   |1      |12    |4930 |874  |0.5129          |13762.0         |6603.0           |6601    |0.0957|0.0375|\n",
      "|100663|University of Alabama at Birmingham|1   |1      |12    |10661|6515 |0.8243          |18003.0         |9000.0           |16090   |0.0552|0.0   |\n",
      "|100690|Amridge University                 |1   |2      |12    |370  |379  |0.7143          |20700.0         |3400.0           |4879    |0.0   |0.0   |\n",
      "|100706|University of Alabama in Huntsville|1   |1      |12    |5828 |1609 |0.6614          |17064.0         |8154.0           |8379    |0.2765|0.0   |\n",
      "|100724|Alabama State University           |1   |1      |12    |4882 |823  |0.4372          |14390.0         |6671.0           |7386    |0.0   |0.0   |\n",
      "+------+-----------------------------------+----+-------+------+-----+-----+----------------+----------------+-----------------+--------+------+------+\n",
      "only showing top 5 rows\n",
      "\n"
     ]
    }
   ],
   "source": [
    "# preview dataframe\n",
    "id_Cols = ['UNITID', 'INSTNM','MAIN']\n",
    "interest_predictors = ['CONTROL',\n",
    " 'LOCALE',\n",
    " 'UGDS',\n",
    " 'GRADS',\n",
    " 'ADM_RATE_imputed',\n",
    " 'COSTT4_A_imputed',\n",
    " 'AVGFACSAL_imputed',\n",
    " 'INEXPFTE',\n",
    " 'PCIP14',\n",
    " 'PCIP15']\n",
    "interest_Cols = id_Cols + interest_predictors\n",
    "\n",
    "data.select(interest_Cols).show(5, truncate=False)"
   ]
  },
  {
   "cell_type": "markdown",
   "metadata": {},
   "source": [
    "## Number of Records"
   ]
  },
  {
   "cell_type": "code",
   "execution_count": 5,
   "metadata": {},
   "outputs": [
    {
     "data": {
      "text/plain": [
       "16450"
      ]
     },
     "execution_count": 5,
     "metadata": {},
     "output_type": "execute_result"
    }
   ],
   "source": [
    "data.count()"
   ]
  },
  {
   "cell_type": "markdown",
   "metadata": {},
   "source": [
    "## Number of Columns"
   ]
  },
  {
   "cell_type": "code",
   "execution_count": 6,
   "metadata": {},
   "outputs": [
    {
     "data": {
      "text/plain": [
       "118"
      ]
     },
     "execution_count": 6,
     "metadata": {},
     "output_type": "execute_result"
    }
   ],
   "source": [
    "len(data.columns)"
   ]
  },
  {
   "cell_type": "markdown",
   "metadata": {},
   "source": [
    "This includes 3 identifcation columns and 1 response column. Thus, we have 114 feature columns to start."
   ]
  },
  {
   "cell_type": "markdown",
   "metadata": {},
   "source": [
    "## Statistical Summary of Response Variable\n",
    "Our response variable is `DEBT_MDN`, median debt upon graduation."
   ]
  },
  {
   "cell_type": "code",
   "execution_count": 7,
   "metadata": {},
   "outputs": [
    {
     "data": {
      "text/html": [
       "<div>\n",
       "<style scoped>\n",
       "    .dataframe tbody tr th:only-of-type {\n",
       "        vertical-align: middle;\n",
       "    }\n",
       "\n",
       "    .dataframe tbody tr th {\n",
       "        vertical-align: top;\n",
       "    }\n",
       "\n",
       "    .dataframe thead th {\n",
       "        text-align: right;\n",
       "    }\n",
       "</style>\n",
       "<table border=\"1\" class=\"dataframe\">\n",
       "  <thead>\n",
       "    <tr style=\"text-align: right;\">\n",
       "      <th></th>\n",
       "      <th>0</th>\n",
       "      <th>1</th>\n",
       "      <th>2</th>\n",
       "      <th>3</th>\n",
       "      <th>4</th>\n",
       "    </tr>\n",
       "  </thead>\n",
       "  <tbody>\n",
       "    <tr>\n",
       "      <th>summary</th>\n",
       "      <td>count</td>\n",
       "      <td>mean</td>\n",
       "      <td>stddev</td>\n",
       "      <td>min</td>\n",
       "      <td>max</td>\n",
       "    </tr>\n",
       "    <tr>\n",
       "      <th>DEBT_MDN</th>\n",
       "      <td>16450</td>\n",
       "      <td>15067.056869300912</td>\n",
       "      <td>5059.659830553921</td>\n",
       "      <td>1550.0</td>\n",
       "      <td>39581.0</td>\n",
       "    </tr>\n",
       "  </tbody>\n",
       "</table>\n",
       "</div>"
      ],
      "text/plain": [
       "              0                   1                  2       3        4\n",
       "summary   count                mean             stddev     min      max\n",
       "DEBT_MDN  16450  15067.056869300912  5059.659830553921  1550.0  39581.0"
      ]
     },
     "execution_count": 7,
     "metadata": {},
     "output_type": "execute_result"
    }
   ],
   "source": [
    "# cast to float\n",
    "data = data.withColumn('DEBT_MDN', data.DEBT_MDN.cast('float'))\n",
    "\n",
    "data.select('DEBT_MDN').describe().toPandas().T"
   ]
  },
  {
   "cell_type": "code",
   "execution_count": 8,
   "metadata": {},
   "outputs": [
    {
     "data": {
      "image/png": "[encoded data removed]",
      "text/plain": [
       "<Figure size 640x480 with 1 Axes>"
      ]
     },
     "metadata": {},
     "output_type": "display_data"
    }
   ],
   "source": [
    "# plot histogram of response variale\n",
    "data_pandas = data.select('DEBT_MDN').toPandas()\n",
    "\n",
    "plt.hist(data_pandas['DEBT_MDN'])\n",
    "plt.xlabel('Median Debt')\n",
    "plt.ylabel('count')\n",
    "plt.show()\n"
   ]
  },
  {
   "cell_type": "markdown",
   "metadata": {},
   "source": [
    "## Statistical Summary of Predictors\n",
    "We previously selected 10 interesting predictors."
   ]
  },
  {
   "cell_type": "code",
   "execution_count": 9,
   "metadata": {},
   "outputs": [
    {
     "data": {
      "text/html": [
       "<div>\n",
       "<style scoped>\n",
       "    .dataframe tbody tr th:only-of-type {\n",
       "        vertical-align: middle;\n",
       "    }\n",
       "\n",
       "    .dataframe tbody tr th {\n",
       "        vertical-align: top;\n",
       "    }\n",
       "\n",
       "    .dataframe thead th {\n",
       "        text-align: right;\n",
       "    }\n",
       "</style>\n",
       "<table border=\"1\" class=\"dataframe\">\n",
       "  <thead>\n",
       "    <tr style=\"text-align: right;\">\n",
       "      <th></th>\n",
       "      <th>0</th>\n",
       "      <th>1</th>\n",
       "      <th>2</th>\n",
       "      <th>3</th>\n",
       "      <th>4</th>\n",
       "    </tr>\n",
       "  </thead>\n",
       "  <tbody>\n",
       "    <tr>\n",
       "      <th>summary</th>\n",
       "      <td>count</td>\n",
       "      <td>mean</td>\n",
       "      <td>stddev</td>\n",
       "      <td>min</td>\n",
       "      <td>max</td>\n",
       "    </tr>\n",
       "    <tr>\n",
       "      <th>CONTROL</th>\n",
       "      <td>16450</td>\n",
       "      <td>1.7117933130699088</td>\n",
       "      <td>0.5306928276638436</td>\n",
       "      <td>1</td>\n",
       "      <td>3</td>\n",
       "    </tr>\n",
       "    <tr>\n",
       "      <th>LOCALE</th>\n",
       "      <td>16450</td>\n",
       "      <td>19.842553191489362</td>\n",
       "      <td>9.507612075762301</td>\n",
       "      <td>11</td>\n",
       "      <td>43</td>\n",
       "    </tr>\n",
       "    <tr>\n",
       "      <th>UGDS</th>\n",
       "      <td>16450</td>\n",
       "      <td>5127.659088145897</td>\n",
       "      <td>7436.411105278192</td>\n",
       "      <td>2</td>\n",
       "      <td>98630</td>\n",
       "    </tr>\n",
       "    <tr>\n",
       "      <th>GRADS</th>\n",
       "      <td>16450</td>\n",
       "      <td>1598.7068693009119</td>\n",
       "      <td>3139.2403837413412</td>\n",
       "      <td>0</td>\n",
       "      <td>44560</td>\n",
       "    </tr>\n",
       "    <tr>\n",
       "      <th>ADM_RATE_imputed</th>\n",
       "      <td>16450</td>\n",
       "      <td>0.6512291306990668</td>\n",
       "      <td>0.18419253735619523</td>\n",
       "      <td>0.0</td>\n",
       "      <td>1.0</td>\n",
       "    </tr>\n",
       "    <tr>\n",
       "      <th>COSTT4_A_imputed</th>\n",
       "      <td>16450</td>\n",
       "      <td>33293.7379331307</td>\n",
       "      <td>14243.152552005002</td>\n",
       "      <td>5033.0</td>\n",
       "      <td>78555.0</td>\n",
       "    </tr>\n",
       "    <tr>\n",
       "      <th>AVGFACSAL_imputed</th>\n",
       "      <td>16450</td>\n",
       "      <td>7451.627781155015</td>\n",
       "      <td>2320.5213027542245</td>\n",
       "      <td>269.0</td>\n",
       "      <td>26084.0</td>\n",
       "    </tr>\n",
       "    <tr>\n",
       "      <th>INEXPFTE</th>\n",
       "      <td>16450</td>\n",
       "      <td>10730.17179331307</td>\n",
       "      <td>10364.915347209177</td>\n",
       "      <td>0</td>\n",
       "      <td>171547</td>\n",
       "    </tr>\n",
       "    <tr>\n",
       "      <th>PCIP14</th>\n",
       "      <td>16450</td>\n",
       "      <td>0.0295939513677811</td>\n",
       "      <td>0.09068682929314652</td>\n",
       "      <td>0.0</td>\n",
       "      <td>1.0</td>\n",
       "    </tr>\n",
       "    <tr>\n",
       "      <th>PCIP15</th>\n",
       "      <td>16450</td>\n",
       "      <td>0.006964012158054722</td>\n",
       "      <td>0.02343882292865234</td>\n",
       "      <td>0.0</td>\n",
       "      <td>0.3061</td>\n",
       "    </tr>\n",
       "  </tbody>\n",
       "</table>\n",
       "</div>"
      ],
      "text/plain": [
       "                       0                     1                    2       3  \\\n",
       "summary            count                  mean               stddev     min   \n",
       "CONTROL            16450    1.7117933130699088   0.5306928276638436       1   \n",
       "LOCALE             16450    19.842553191489362    9.507612075762301      11   \n",
       "UGDS               16450     5127.659088145897    7436.411105278192       2   \n",
       "GRADS              16450    1598.7068693009119   3139.2403837413412       0   \n",
       "ADM_RATE_imputed   16450    0.6512291306990668  0.18419253735619523     0.0   \n",
       "COSTT4_A_imputed   16450      33293.7379331307   14243.152552005002  5033.0   \n",
       "AVGFACSAL_imputed  16450     7451.627781155015   2320.5213027542245   269.0   \n",
       "INEXPFTE           16450     10730.17179331307   10364.915347209177       0   \n",
       "PCIP14             16450    0.0295939513677811  0.09068682929314652     0.0   \n",
       "PCIP15             16450  0.006964012158054722  0.02343882292865234     0.0   \n",
       "\n",
       "                         4  \n",
       "summary                max  \n",
       "CONTROL                  3  \n",
       "LOCALE                  43  \n",
       "UGDS                 98630  \n",
       "GRADS                44560  \n",
       "ADM_RATE_imputed       1.0  \n",
       "COSTT4_A_imputed   78555.0  \n",
       "AVGFACSAL_imputed  26084.0  \n",
       "INEXPFTE            171547  \n",
       "PCIP14                 1.0  \n",
       "PCIP15              0.3061  "
      ]
     },
     "execution_count": 9,
     "metadata": {},
     "output_type": "execute_result"
    }
   ],
   "source": [
    "data.select(interest_predictors).describe().toPandas().T"
   ]
  },
  {
   "cell_type": "code",
   "execution_count": 10,
   "metadata": {},
   "outputs": [
    {
     "data": {
      "text/html": [
       "<div>\n",
       "<style scoped>\n",
       "    .dataframe tbody tr th:only-of-type {\n",
       "        vertical-align: middle;\n",
       "    }\n",
       "\n",
       "    .dataframe tbody tr th {\n",
       "        vertical-align: top;\n",
       "    }\n",
       "\n",
       "    .dataframe thead th {\n",
       "        text-align: right;\n",
       "    }\n",
       "</style>\n",
       "<table border=\"1\" class=\"dataframe\">\n",
       "  <thead>\n",
       "    <tr style=\"text-align: right;\">\n",
       "      <th></th>\n",
       "      <th>UGDS</th>\n",
       "      <th>GRADS</th>\n",
       "      <th>ADM_RATE_imputed</th>\n",
       "      <th>COSTT4_A_imputed</th>\n",
       "      <th>AVGFACSAL_imputed</th>\n",
       "      <th>INEXPFTE</th>\n",
       "      <th>PCIP14</th>\n",
       "      <th>PCIP15</th>\n",
       "    </tr>\n",
       "  </thead>\n",
       "  <tbody>\n",
       "    <tr>\n",
       "      <th>25</th>\n",
       "      <td>1051.0</td>\n",
       "      <td>52.0</td>\n",
       "      <td>0.5554</td>\n",
       "      <td>21321.0</td>\n",
       "      <td>5956.0</td>\n",
       "      <td>6335.0</td>\n",
       "      <td>0.0000</td>\n",
       "      <td>0.0</td>\n",
       "    </tr>\n",
       "    <tr>\n",
       "      <th>50</th>\n",
       "      <td>2134.0</td>\n",
       "      <td>469.0</td>\n",
       "      <td>0.6691</td>\n",
       "      <td>31374.0</td>\n",
       "      <td>7130.0</td>\n",
       "      <td>8377.0</td>\n",
       "      <td>0.0000</td>\n",
       "      <td>0.0</td>\n",
       "    </tr>\n",
       "    <tr>\n",
       "      <th>75</th>\n",
       "      <td>5797.0</td>\n",
       "      <td>1714.0</td>\n",
       "      <td>0.7694</td>\n",
       "      <td>42906.0</td>\n",
       "      <td>8612.0</td>\n",
       "      <td>11585.0</td>\n",
       "      <td>0.0094</td>\n",
       "      <td>0.0</td>\n",
       "    </tr>\n",
       "  </tbody>\n",
       "</table>\n",
       "</div>"
      ],
      "text/plain": [
       "      UGDS   GRADS  ADM_RATE_imputed  COSTT4_A_imputed  AVGFACSAL_imputed  \\\n",
       "25  1051.0    52.0            0.5554           21321.0             5956.0   \n",
       "50  2134.0   469.0            0.6691           31374.0             7130.0   \n",
       "75  5797.0  1714.0            0.7694           42906.0             8612.0   \n",
       "\n",
       "    INEXPFTE  PCIP14  PCIP15  \n",
       "25    6335.0  0.0000     0.0  \n",
       "50    8377.0  0.0000     0.0  \n",
       "75   11585.0  0.0094     0.0  "
      ]
     },
     "execution_count": 10,
     "metadata": {},
     "output_type": "execute_result"
    }
   ],
   "source": [
    "# quantiles\n",
    "numerical_predictors = ['UGDS', 'GRADS', 'ADM_RATE_imputed', 'COSTT4_A_imputed',\n",
    "                        'AVGFACSAL_imputed','INEXPFTE', 'PCIP14', 'PCIP15']\n",
    "quartiles = data.approxQuantile(col = numerical_predictors,\n",
    "                                probabilities = [0.25, 0.5, 0.75],\n",
    "                                relativeError = 0.00001)\n",
    "\n",
    "clean_quartiles = pd.DataFrame({numerical_predictors[i]:quartiles[i] for i in range(len(quartiles))})\n",
    "clean_quartiles.index = [\"25\", \"50\", \"75\"]\n",
    "clean_quartiles"
   ]
  },
  {
   "cell_type": "markdown",
   "metadata": {},
   "source": [
    "### Summarize Categoricals\n",
    "`CONTROL` and `LOCALE` are categoricals"
   ]
  },
  {
   "cell_type": "code",
   "execution_count": 11,
   "metadata": {},
   "outputs": [
    {
     "name": "stdout",
     "output_type": "stream",
     "text": [
      "+-------+-------------+-----------------+\n",
      "|CONTROL|CONTROL_count|              pct|\n",
      "+-------+-------------+-----------------+\n",
      "|      1|         5370|32.64437689969605|\n",
      "|      3|          629| 3.82370820668693|\n",
      "|      2|        10451|63.53191489361703|\n",
      "+-------+-------------+-----------------+\n",
      "\n"
     ]
    }
   ],
   "source": [
    "# CONTROL summary\n",
    "CONTROL_summary = data.groupBy(data.CONTROL).agg(F.count(data.CONTROL).alias('CONTROL_count'))\n",
    "CONTROL_summary.withColumn('pct', (CONTROL_summary.CONTROL_count / data.count())*100).show()"
   ]
  },
  {
   "cell_type": "code",
   "execution_count": 12,
   "metadata": {},
   "outputs": [
    {
     "name": "stdout",
     "output_type": "stream",
     "text": [
      "+------+------------+------------------+\n",
      "|LOCALE|LOCALE_count|               pct|\n",
      "+------+------------+------------------+\n",
      "|    31|         610| 3.708206686930091|\n",
      "|    12|        2070|12.583586626139818|\n",
      "|    22|         490|2.9787234042553195|\n",
      "|    13|        2320|14.103343465045592|\n",
      "|    41|         450| 2.735562310030395|\n",
      "|    43|         140| 0.851063829787234|\n",
      "|    23|         330|2.0060790273556233|\n",
      "|    21|        2990| 18.17629179331307|\n",
      "|    32|        1750|10.638297872340425|\n",
      "|    33|        1100|  6.68693009118541|\n",
      "|    11|        3930|23.890577507598785|\n",
      "|    42|         270|1.6413373860182372|\n",
      "+------+------------+------------------+\n",
      "\n"
     ]
    }
   ],
   "source": [
    "# LOCALE Summary\n",
    "LOCALE_summary = data.groupBy(data.LOCALE).agg(F.count(data.LOCALE).alias('LOCALE_count'))\n",
    "LOCALE_summary.withColumn('pct', (LOCALE_summary.LOCALE_count / data.count())*100).show()"
   ]
  }
 ],
 "metadata": {
  "kernelspec": {
   "display_name": "Python 3 (ipykernel)",
   "language": "python",
   "name": "python3"
  },
  "language_info": {
   "codemirror_mode": {
    "name": "ipython",
    "version": 3
   },
   "file_extension": ".py",
   "mimetype": "text/x-python",
   "name": "python",
   "nbconvert_exporter": "python",
   "pygments_lexer": "ipython3",
   "version": "3.9.7"
  }
 },
 "nbformat": 4,
 "nbformat_minor": 4
}
